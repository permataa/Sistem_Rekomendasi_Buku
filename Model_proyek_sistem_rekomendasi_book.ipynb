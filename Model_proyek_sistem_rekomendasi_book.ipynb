{
  "nbformat": 4,
  "nbformat_minor": 0,
  "metadata": {
    "colab": {
      "provenance": [],
      "gpuType": "T4",
      "toc_visible": true
    },
    "kernelspec": {
      "name": "python3",
      "display_name": "Python 3"
    },
    "language_info": {
      "name": "python"
    },
    "accelerator": "GPU"
  },
  "cells": [
    {
      "cell_type": "markdown",
      "source": [
        "#Proyek Akhir Model Sistem Rekomendasi: Goodreads-books\n"
      ],
      "metadata": {
        "id": "XLSAJVlQc3aH"
      }
    },
    {
      "cell_type": "markdown",
      "source": [
        "## Business Understanding\n",
        "\n",
        "### Problem Statements\n",
        "- Bagaimana memberikan rekomendasi buku berdasarkan kesamaan karakteristik buku?\n",
        "- Bagaimana meningkatkan pengalaman pengguna dalam menemukan buku yang relevan tanpa harus mencari secara manual?\n",
        "\n",
        "### Goals\n",
        "- Mengembangkan sistem rekomendasi berbasis konten yang dapat memberikan saran buku serupa berdasarkan input pengguna.\n",
        "- Memberikan hasil rekomendasi yang relevan berdasarkan kesamaan penulis, penerbit, dan bahasa.\n",
        "\n",
        "### Solution Statements\n",
        "- Menggunakan pendekatan Content-Based Filtering dengan TF-IDF Vectorizer.\n",
        "- Mengukur kemiripan antar buku dengan cosine similarity berdasarkan metadata yang digabungkan.\n"
      ],
      "metadata": {
        "id": "fA1B0Qp0Zuql"
      }
    },
    {
      "cell_type": "markdown",
      "source": [
        "## Install & Import\n",
        "\n",
        "Menginstal dan mengimpor library utama yang dibutuhkan untuk manipulasi data, visualisasi, pemodelan teks, dan pembuatan antarmuka."
      ],
      "metadata": {
        "id": "4r3oUEUsT-8T"
      }
    },
    {
      "cell_type": "code",
      "execution_count": 1,
      "metadata": {
        "id": "e2y_fgRAbjBY"
      },
      "outputs": [],
      "source": [
        "# 1. INSTALL & IMPORT LIBRARY\n",
        "!pip install pandas scikit-learn matplotlib seaborn --quiet\n",
        "import pandas as pd\n",
        "import numpy as np\n",
        "import matplotlib.pyplot as plt\n",
        "import seaborn as sns\n",
        "from sklearn.feature_extraction.text import TfidfVectorizer\n",
        "from sklearn.metrics.pairwise import cosine_similarity\n",
        "from google.colab import files"
      ]
    },
    {
      "cell_type": "markdown",
      "source": [
        "## Load Dataset\n",
        "\n",
        "Dataset diunduh dari Kaggle dan dimuat ke dalam notebook menggunakan Pandas setelah proses autentikasi dengan API Kaggle."
      ],
      "metadata": {
        "id": "cTaLPKu0UFq6"
      }
    },
    {
      "cell_type": "code",
      "source": [
        "# 2. LOAD DATASET\n",
        "# Upload file CSV ke Colab terlebih dahulu\n",
        "\n",
        "files.upload()  # Pilih file kaggle.json"
      ],
      "metadata": {
        "colab": {
          "base_uri": "https://localhost:8080/",
          "height": 111
        },
        "id": "v_JUf0Z6e8JG",
        "outputId": "0d67ae6a-40c7-4330-8bd9-19946b0576fd"
      },
      "execution_count": 2,
      "outputs": [
        {
          "output_type": "display_data",
          "data": {
            "text/plain": [
              "<IPython.core.display.HTML object>"
            ],
            "text/html": [
              "\n",
              "     <input type=\"file\" id=\"files-4d0ada83-0293-4ad8-96b6-5c02ad651b2c\" name=\"files[]\" multiple disabled\n",
              "        style=\"border:none\" />\n",
              "     <output id=\"result-4d0ada83-0293-4ad8-96b6-5c02ad651b2c\">\n",
              "      Upload widget is only available when the cell has been executed in the\n",
              "      current browser session. Please rerun this cell to enable.\n",
              "      </output>\n",
              "      <script>// Copyright 2017 Google LLC\n",
              "//\n",
              "// Licensed under the Apache License, Version 2.0 (the \"License\");\n",
              "// you may not use this file except in compliance with the License.\n",
              "// You may obtain a copy of the License at\n",
              "//\n",
              "//      http://www.apache.org/licenses/LICENSE-2.0\n",
              "//\n",
              "// Unless required by applicable law or agreed to in writing, software\n",
              "// distributed under the License is distributed on an \"AS IS\" BASIS,\n",
              "// WITHOUT WARRANTIES OR CONDITIONS OF ANY KIND, either express or implied.\n",
              "// See the License for the specific language governing permissions and\n",
              "// limitations under the License.\n",
              "\n",
              "/**\n",
              " * @fileoverview Helpers for google.colab Python module.\n",
              " */\n",
              "(function(scope) {\n",
              "function span(text, styleAttributes = {}) {\n",
              "  const element = document.createElement('span');\n",
              "  element.textContent = text;\n",
              "  for (const key of Object.keys(styleAttributes)) {\n",
              "    element.style[key] = styleAttributes[key];\n",
              "  }\n",
              "  return element;\n",
              "}\n",
              "\n",
              "// Max number of bytes which will be uploaded at a time.\n",
              "const MAX_PAYLOAD_SIZE = 100 * 1024;\n",
              "\n",
              "function _uploadFiles(inputId, outputId) {\n",
              "  const steps = uploadFilesStep(inputId, outputId);\n",
              "  const outputElement = document.getElementById(outputId);\n",
              "  // Cache steps on the outputElement to make it available for the next call\n",
              "  // to uploadFilesContinue from Python.\n",
              "  outputElement.steps = steps;\n",
              "\n",
              "  return _uploadFilesContinue(outputId);\n",
              "}\n",
              "\n",
              "// This is roughly an async generator (not supported in the browser yet),\n",
              "// where there are multiple asynchronous steps and the Python side is going\n",
              "// to poll for completion of each step.\n",
              "// This uses a Promise to block the python side on completion of each step,\n",
              "// then passes the result of the previous step as the input to the next step.\n",
              "function _uploadFilesContinue(outputId) {\n",
              "  const outputElement = document.getElementById(outputId);\n",
              "  const steps = outputElement.steps;\n",
              "\n",
              "  const next = steps.next(outputElement.lastPromiseValue);\n",
              "  return Promise.resolve(next.value.promise).then((value) => {\n",
              "    // Cache the last promise value to make it available to the next\n",
              "    // step of the generator.\n",
              "    outputElement.lastPromiseValue = value;\n",
              "    return next.value.response;\n",
              "  });\n",
              "}\n",
              "\n",
              "/**\n",
              " * Generator function which is called between each async step of the upload\n",
              " * process.\n",
              " * @param {string} inputId Element ID of the input file picker element.\n",
              " * @param {string} outputId Element ID of the output display.\n",
              " * @return {!Iterable<!Object>} Iterable of next steps.\n",
              " */\n",
              "function* uploadFilesStep(inputId, outputId) {\n",
              "  const inputElement = document.getElementById(inputId);\n",
              "  inputElement.disabled = false;\n",
              "\n",
              "  const outputElement = document.getElementById(outputId);\n",
              "  outputElement.innerHTML = '';\n",
              "\n",
              "  const pickedPromise = new Promise((resolve) => {\n",
              "    inputElement.addEventListener('change', (e) => {\n",
              "      resolve(e.target.files);\n",
              "    });\n",
              "  });\n",
              "\n",
              "  const cancel = document.createElement('button');\n",
              "  inputElement.parentElement.appendChild(cancel);\n",
              "  cancel.textContent = 'Cancel upload';\n",
              "  const cancelPromise = new Promise((resolve) => {\n",
              "    cancel.onclick = () => {\n",
              "      resolve(null);\n",
              "    };\n",
              "  });\n",
              "\n",
              "  // Wait for the user to pick the files.\n",
              "  const files = yield {\n",
              "    promise: Promise.race([pickedPromise, cancelPromise]),\n",
              "    response: {\n",
              "      action: 'starting',\n",
              "    }\n",
              "  };\n",
              "\n",
              "  cancel.remove();\n",
              "\n",
              "  // Disable the input element since further picks are not allowed.\n",
              "  inputElement.disabled = true;\n",
              "\n",
              "  if (!files) {\n",
              "    return {\n",
              "      response: {\n",
              "        action: 'complete',\n",
              "      }\n",
              "    };\n",
              "  }\n",
              "\n",
              "  for (const file of files) {\n",
              "    const li = document.createElement('li');\n",
              "    li.append(span(file.name, {fontWeight: 'bold'}));\n",
              "    li.append(span(\n",
              "        `(${file.type || 'n/a'}) - ${file.size} bytes, ` +\n",
              "        `last modified: ${\n",
              "            file.lastModifiedDate ? file.lastModifiedDate.toLocaleDateString() :\n",
              "                                    'n/a'} - `));\n",
              "    const percent = span('0% done');\n",
              "    li.appendChild(percent);\n",
              "\n",
              "    outputElement.appendChild(li);\n",
              "\n",
              "    const fileDataPromise = new Promise((resolve) => {\n",
              "      const reader = new FileReader();\n",
              "      reader.onload = (e) => {\n",
              "        resolve(e.target.result);\n",
              "      };\n",
              "      reader.readAsArrayBuffer(file);\n",
              "    });\n",
              "    // Wait for the data to be ready.\n",
              "    let fileData = yield {\n",
              "      promise: fileDataPromise,\n",
              "      response: {\n",
              "        action: 'continue',\n",
              "      }\n",
              "    };\n",
              "\n",
              "    // Use a chunked sending to avoid message size limits. See b/62115660.\n",
              "    let position = 0;\n",
              "    do {\n",
              "      const length = Math.min(fileData.byteLength - position, MAX_PAYLOAD_SIZE);\n",
              "      const chunk = new Uint8Array(fileData, position, length);\n",
              "      position += length;\n",
              "\n",
              "      const base64 = btoa(String.fromCharCode.apply(null, chunk));\n",
              "      yield {\n",
              "        response: {\n",
              "          action: 'append',\n",
              "          file: file.name,\n",
              "          data: base64,\n",
              "        },\n",
              "      };\n",
              "\n",
              "      let percentDone = fileData.byteLength === 0 ?\n",
              "          100 :\n",
              "          Math.round((position / fileData.byteLength) * 100);\n",
              "      percent.textContent = `${percentDone}% done`;\n",
              "\n",
              "    } while (position < fileData.byteLength);\n",
              "  }\n",
              "\n",
              "  // All done.\n",
              "  yield {\n",
              "    response: {\n",
              "      action: 'complete',\n",
              "    }\n",
              "  };\n",
              "}\n",
              "\n",
              "scope.google = scope.google || {};\n",
              "scope.google.colab = scope.google.colab || {};\n",
              "scope.google.colab._files = {\n",
              "  _uploadFiles,\n",
              "  _uploadFilesContinue,\n",
              "};\n",
              "})(self);\n",
              "</script> "
            ]
          },
          "metadata": {}
        },
        {
          "output_type": "stream",
          "name": "stdout",
          "text": [
            "Saving kaggle.json to kaggle.json\n"
          ]
        },
        {
          "output_type": "execute_result",
          "data": {
            "text/plain": [
              "{'kaggle.json': b'{\"username\":\"permataa\",\"key\":\"9c4656619367c8cb34b2b23c3741926e\"}'}"
            ]
          },
          "metadata": {},
          "execution_count": 2
        }
      ]
    },
    {
      "cell_type": "code",
      "source": [
        "# Pindahkan file ke folder yang benar\n",
        "!mkdir -p ~/.kaggle\n",
        "!cp kaggle.json ~/.kaggle/\n",
        "!chmod 600 ~/.kaggle/kaggle.json"
      ],
      "metadata": {
        "id": "qYQQOCEbjn7H"
      },
      "execution_count": 3,
      "outputs": []
    },
    {
      "cell_type": "code",
      "source": [
        "# Download dataset (ganti dengan link dataset Anda)\n",
        "!kaggle datasets download -d jealousleopard/goodreadsbooks\n",
        "\n",
        "# Unzip file\n",
        "!unzip goodreadsbooks.zip"
      ],
      "metadata": {
        "colab": {
          "base_uri": "https://localhost:8080/"
        },
        "id": "C6lPrZ3GjoQy",
        "outputId": "debdcd05-d287-4ffd-d7c1-7b21043aaf2a"
      },
      "execution_count": 4,
      "outputs": [
        {
          "output_type": "stream",
          "name": "stdout",
          "text": [
            "Dataset URL: https://www.kaggle.com/datasets/jealousleopard/goodreadsbooks\n",
            "License(s): CC0-1.0\n",
            "Archive:  goodreadsbooks.zip\n",
            "  inflating: books.csv               \n"
          ]
        }
      ]
    },
    {
      "cell_type": "code",
      "source": [
        "# Load dataset\n",
        "df = pd.read_csv('books.csv', on_bad_lines='skip')"
      ],
      "metadata": {
        "id": "gKV0QnjVkA6E"
      },
      "execution_count": 5,
      "outputs": []
    },
    {
      "cell_type": "markdown",
      "source": [
        "## EDA\n",
        "\n",
        "Melakukan eksplorasi awal untuk memahami struktur data, termasuk melihat distribusi rating buku, penulis paling produktif, serta korelasi antar fitur numerik."
      ],
      "metadata": {
        "id": "ugtcSap5UNrP"
      }
    },
    {
      "cell_type": "code",
      "source": [
        "# 3. EXPLORATORY DATA ANALYSIS (EDA)\n",
        "# Cek data\n",
        "print(\"Preview Data:\")\n",
        "print(df.head())\n",
        "print(\"\\nInfo Dataset:\")\n",
        "print(df.info())"
      ],
      "metadata": {
        "colab": {
          "base_uri": "https://localhost:8080/"
        },
        "id": "ZwJrHGSOThsf",
        "outputId": "aaee6374-6b01-472f-b5b4-46c5e69ee6d0"
      },
      "execution_count": 6,
      "outputs": [
        {
          "output_type": "stream",
          "name": "stdout",
          "text": [
            "Preview Data:\n",
            "   bookID                                              title  \\\n",
            "0       1  Harry Potter and the Half-Blood Prince (Harry ...   \n",
            "1       2  Harry Potter and the Order of the Phoenix (Har...   \n",
            "2       4  Harry Potter and the Chamber of Secrets (Harry...   \n",
            "3       5  Harry Potter and the Prisoner of Azkaban (Harr...   \n",
            "4       8  Harry Potter Boxed Set  Books 1-5 (Harry Potte...   \n",
            "\n",
            "                      authors  average_rating        isbn         isbn13  \\\n",
            "0  J.K. Rowling/Mary GrandPré            4.57  0439785960  9780439785969   \n",
            "1  J.K. Rowling/Mary GrandPré            4.49  0439358078  9780439358071   \n",
            "2                J.K. Rowling            4.42  0439554896  9780439554893   \n",
            "3  J.K. Rowling/Mary GrandPré            4.56  043965548X  9780439655484   \n",
            "4  J.K. Rowling/Mary GrandPré            4.78  0439682584  9780439682589   \n",
            "\n",
            "  language_code    num_pages  ratings_count  text_reviews_count  \\\n",
            "0           eng          652        2095690               27591   \n",
            "1           eng          870        2153167               29221   \n",
            "2           eng          352           6333                 244   \n",
            "3           eng          435        2339585               36325   \n",
            "4           eng         2690          41428                 164   \n",
            "\n",
            "  publication_date        publisher  \n",
            "0        9/16/2006  Scholastic Inc.  \n",
            "1         9/1/2004  Scholastic Inc.  \n",
            "2        11/1/2003       Scholastic  \n",
            "3         5/1/2004  Scholastic Inc.  \n",
            "4        9/13/2004       Scholastic  \n",
            "\n",
            "Info Dataset:\n",
            "<class 'pandas.core.frame.DataFrame'>\n",
            "RangeIndex: 11123 entries, 0 to 11122\n",
            "Data columns (total 12 columns):\n",
            " #   Column              Non-Null Count  Dtype  \n",
            "---  ------              --------------  -----  \n",
            " 0   bookID              11123 non-null  int64  \n",
            " 1   title               11123 non-null  object \n",
            " 2   authors             11123 non-null  object \n",
            " 3   average_rating      11123 non-null  float64\n",
            " 4   isbn                11123 non-null  object \n",
            " 5   isbn13              11123 non-null  int64  \n",
            " 6   language_code       11123 non-null  object \n",
            " 7     num_pages         11123 non-null  int64  \n",
            " 8   ratings_count       11123 non-null  int64  \n",
            " 9   text_reviews_count  11123 non-null  int64  \n",
            " 10  publication_date    11123 non-null  object \n",
            " 11  publisher           11123 non-null  object \n",
            "dtypes: float64(1), int64(5), object(6)\n",
            "memory usage: 1.0+ MB\n",
            "None\n"
          ]
        }
      ]
    },
    {
      "cell_type": "markdown",
      "source": [
        "### Visualisasi\n",
        "\n"
      ],
      "metadata": {
        "id": "fa6gnN7XUTCJ"
      }
    },
    {
      "cell_type": "code",
      "source": [
        "# Visualisasi 1: Distribusi Rating\n",
        "plt.figure(figsize=(10,5))\n",
        "df['average_rating'].hist(bins=20, color='skyblue')\n",
        "plt.title('Distribusi Rating Buku', fontsize=14)\n",
        "plt.xlabel('Rating', fontsize=12)\n",
        "plt.ylabel('Jumlah Buku', fontsize=12)\n",
        "plt.grid(False)\n",
        "plt.savefig('rating_dist.png', bbox_inches='tight', dpi=300)\n",
        "plt.show()"
      ],
      "metadata": {
        "colab": {
          "base_uri": "https://localhost:8080/",
          "height": 363
        },
        "id": "4glcY9cJfBzr",
        "outputId": "80689ddb-2ef5-4ecc-aafd-0e92d5eece6a"
      },
      "execution_count": 7,
      "outputs": [
        {
          "output_type": "display_data",
          "data": {
            "text/plain": [
              "<Figure size 1000x500 with 1 Axes>"
            ],
            "image/png": "[encoded data removed]"
          },
          "metadata": {}
        }
      ]
    },
    {
      "cell_type": "code",
      "source": [
        "# Visualisasi 2: Top 10 Authors\n",
        "plt.figure(figsize=(10,6))\n",
        "df['authors'].value_counts().head(10).plot(kind='barh', color='teal')\n",
        "plt.title('10 Penulis dengan Buku Terbanyak', fontsize=14)\n",
        "plt.xlabel('Jumlah Buku', fontsize=12)\n",
        "plt.savefig('top_authors.png', bbox_inches='tight', dpi=300)\n",
        "plt.show()"
      ],
      "metadata": {
        "colab": {
          "base_uri": "https://localhost:8080/",
          "height": 354
        },
        "id": "ewTIFWUITq9E",
        "outputId": "367173a9-e285-4736-eb28-7b0cd6440e04"
      },
      "execution_count": 8,
      "outputs": [
        {
          "output_type": "display_data",
          "data": {
            "text/plain": [
              "<Figure size 1000x600 with 1 Axes>"
            ],
            "image/png": "[encoded data removed]"
          },
          "metadata": {}
        }
      ]
    },
    {
      "cell_type": "code",
      "source": [
        "# Visualisasi 3: Korelasi Fitur Numerik\n",
        "plt.figure(figsize=(8,6))\n",
        "sns.heatmap(df[['average_rating', 'ratings_count', 'text_reviews_count']].corr(),\n",
        "            annot=True, cmap='coolwarm', fmt=\".2f\")\n",
        "plt.title('Korelasi Antar Fitur Numerik', fontsize=14)\n",
        "plt.savefig('correlation_heatmap.png', bbox_inches='tight', dpi=300)\n",
        "plt.show()"
      ],
      "metadata": {
        "colab": {
          "base_uri": "https://localhost:8080/",
          "height": 546
        },
        "id": "GlqsCA5PTvCg",
        "outputId": "d5019009-c271-44f2-9eb3-1ba9a4563538"
      },
      "execution_count": 9,
      "outputs": [
        {
          "output_type": "display_data",
          "data": {
            "text/plain": [
              "<Figure size 800x600 with 2 Axes>"
            ],
            "image/png": "[encoded data removed]"
          },
          "metadata": {}
        }
      ]
    },
    {
      "cell_type": "markdown",
      "source": [
        "## Preprocessing\n",
        "\n",
        "Membersihkan data dengan mengisi nilai kosong dan menggabungkan kolom authors, publisher, dan language_code menjadi fitur gabungan untuk dianalisis dengan TF-IDF."
      ],
      "metadata": {
        "id": "r5-hQfuyUY-g"
      }
    },
    {
      "cell_type": "code",
      "source": [
        "# 4. DATA PREPARATION\n",
        "# Handling Missing Values\n",
        "df['authors'] = df['authors'].fillna('Unknown Author')\n",
        "df['publisher'] = df['publisher'].fillna('Unknown Publisher')"
      ],
      "metadata": {
        "id": "vT08HPD1fMLT"
      },
      "execution_count": 10,
      "outputs": []
    },
    {
      "cell_type": "code",
      "source": [
        "# Feature Engineering\n",
        "df['content_features'] = (\n",
        "    df['authors'].str.replace('/', ' ') + ' ' +  # Normalisasi nama author\n",
        "    df['publisher'] + ' ' +\n",
        "    df['language_code']\n",
        ")"
      ],
      "metadata": {
        "id": "LoJ72IgnT7rN"
      },
      "execution_count": 11,
      "outputs": []
    },
    {
      "cell_type": "code",
      "source": [
        "# TF-IDF Vectorization\n",
        "tfidf = TfidfVectorizer(\n",
        "    stop_words='english',\n",
        "    max_features=5000,\n",
        "    ngram_range=(1, 2)  # Capture frasa seperti \"J.K. Rowling\"\n",
        ")\n",
        "tfidf_matrix = tfidf.fit_transform(df['content_features'])"
      ],
      "metadata": {
        "id": "aXp32RUJUkdk"
      },
      "execution_count": 12,
      "outputs": []
    },
    {
      "cell_type": "code",
      "source": [
        "# Hitung Similarity\n",
        "cosine_sim = cosine_similarity(tfidf_matrix, tfidf_matrix)"
      ],
      "metadata": {
        "id": "xtikA0VzUtS5"
      },
      "execution_count": 13,
      "outputs": []
    },
    {
      "cell_type": "markdown",
      "source": [
        "## Model\n",
        "\n",
        "Membangun sistem rekomendasi berbasis content-based filtering yang menghitung kemiripan antar buku menggunakan cosine similarity pada vektor TF-IDF."
      ],
      "metadata": {
        "id": "CFsX2TcVTKwi"
      }
    },
    {
      "cell_type": "code",
      "source": [
        "# 5. MODELING (CONTENT-BASED FILTERING)\n",
        "def get_recommendations(title, top_n=5, min_rating=4.0):\n",
        "    try:\n",
        "        # Cari index buku\n",
        "        idx = df[df['title'].str.lower().str.contains(title.lower())].index[0]\n",
        "\n",
        "        # Hitung similarity\n",
        "        sim_scores = list(enumerate(cosine_sim[idx]))\n",
        "        sim_scores = sorted(sim_scores, key=lambda x: x[1], reverse=True)\n",
        "\n",
        "        # Ambil rekomendasi\n",
        "        recommendations = []\n",
        "        seen_titles = set()\n",
        "\n",
        "        for i in sim_scores[1:]:  # Skip buku itu sendiri\n",
        "            book_idx = i[0]\n",
        "            book_title = df.iloc[book_idx]['title']\n",
        "\n",
        "            # Filter duplikat dan rating rendah\n",
        "            if (book_title not in seen_titles and\n",
        "                df.iloc[book_idx]['average_rating'] >= min_rating):\n",
        "                rec = {\n",
        "                    'title': book_title,\n",
        "                    'authors': df.iloc[book_idx]['authors'],\n",
        "                    'publisher': df.iloc[book_idx]['publisher'],\n",
        "                    'average_rating': df.iloc[book_idx]['average_rating'],\n",
        "                    'similarity_score': round(i[1], 2)\n",
        "                }\n",
        "                recommendations.append(rec)\n",
        "                seen_titles.add(book_title)\n",
        "\n",
        "            if len(recommendations) >= top_n:\n",
        "                break\n",
        "\n",
        "        return pd.DataFrame(recommendations)\n",
        "\n",
        "    except:\n",
        "        # Fallback: tampilkan buku populer\n",
        "        return df.nlargest(top_n, 'ratings_count')[['title', 'authors', 'average_rating']]"
      ],
      "metadata": {
        "id": "y7rXIUSeogAC"
      },
      "execution_count": 14,
      "outputs": []
    },
    {
      "cell_type": "markdown",
      "source": [
        "## Evaluasi\n",
        "\n",
        "Sistem dievaluasi dengan membandingkan hasil rekomendasi terhadap daftar buku yang relevan dan menghitung presisinya, dilengkapi visualisasi pie chart."
      ],
      "metadata": {
        "id": "pz0OIJAUTRKm"
      }
    },
    {
      "cell_type": "code",
      "source": [
        "# 6. EVALUATION METRICS\n",
        "def evaluate_recommendations(recommendations, true_relevant):\n",
        "    relevant_count = 0\n",
        "    relevant_books = []\n",
        "\n",
        "    for _, row in recommendations.iterrows():\n",
        "        # Ekstrak judul utama (tanpa seri dan lowercase)\n",
        "        recommended_title = row['title'].split('(')[0].strip().lower()\n",
        "\n",
        "        # Cek semua variasi judul yang mungkin\n",
        "        is_relevant = False\n",
        "        for book in true_relevant:\n",
        "            # Bandingkan dengan lowercase dan partial match\n",
        "            if book.lower() in recommended_title:\n",
        "                is_relevant = True\n",
        "                break\n",
        "\n",
        "        if is_relevant:\n",
        "            relevant_count += 1\n",
        "            relevant_books.append(row['title'])\n",
        "\n",
        "    precision = relevant_count / len(recommendations)\n",
        "\n",
        "    print(f\"\\n=== EVALUASI FINAL ===\")\n",
        "    print(f\"Presisi: {precision:.0%} ({relevant_count}/{len(recommendations)})\")\n",
        "    print(\"\\nBuku yang relevan:\")\n",
        "    for book in relevant_books:\n",
        "        print(f\"- {book}\")\n",
        "\n",
        "    # Visualisasi\n",
        "    plt.figure(figsize=(6,6))\n",
        "    plt.pie([relevant_count, len(recommendations)-relevant_count],\n",
        "            labels=['Relevan', 'Tidak Relevan'],\n",
        "            colors=['#4CAF50','#F44336'],  # Hijau untuk relevan, merah untuk tidak\n",
        "            autopct='%1.1f%%')\n",
        "    plt.title('Hasil Evaluasi Rekomendasi', pad=20)\n",
        "    plt.show()\n",
        "\n",
        "# Kriteria relevan disesuaikan dengan variasi judul\n",
        "true_relevant = [\n",
        "    \"Order of the Phoenix\",  # Mencocokkan sebagian judul\n",
        "    \"Prisoner of Azkaban\",\n",
        "    \"Goblet of Fire\",\n",
        "    \"Chamber of Secrets\",  # Tambahkan ini untuk mencakup lebih banyak rekomendasi\n",
        "    \"Sorcerer's Stone\"\n",
        "]\n",
        "\n",
        "# Contoh penggunaan\n",
        "recommendations = get_recommendations(\"Harry Potter\")\n",
        "evaluate_recommendations(recommendations, true_relevant)"
      ],
      "metadata": {
        "id": "L_lENAvxfZ6e",
        "colab": {
          "base_uri": "https://localhost:8080/",
          "height": 710
        },
        "outputId": "5df45756-b839-4427-f9f9-a9699cbfd895"
      },
      "execution_count": 15,
      "outputs": [
        {
          "output_type": "stream",
          "name": "stdout",
          "text": [
            "\n",
            "=== EVALUASI FINAL ===\n",
            "Presisi: 80% (4/5)\n",
            "\n",
            "Buku yang relevan:\n",
            "- Harry Potter and the Order of the Phoenix (Harry Potter  #5)\n",
            "- Harry Potter and the Prisoner of Azkaban (Harry Potter  #3)\n",
            "- Harry Potter and the Chamber of Secrets (Harry Potter  #2)\n",
            "- Harry Potter and the Sorcerer's Stone (Harry Potter  #1)\n"
          ]
        },
        {
          "output_type": "display_data",
          "data": {
            "text/plain": [
              "<Figure size 600x600 with 1 Axes>"
            ],
            "image/png": "[encoded data removed]"
          },
          "metadata": {}
        }
      ]
    },
    {
      "cell_type": "markdown",
      "source": [
        "## Deploy\n",
        "\n",
        "Menggunakan Gradio untuk membuat antarmuka web sederhana di mana pengguna dapat mengetik judul buku dan menerima rekomendasi secara langsung."
      ],
      "metadata": {
        "id": "9v9qAhafTWeO"
      }
    },
    {
      "cell_type": "code",
      "source": [
        "# 7. DEPLOYMENT\n",
        "#Uncomment untuk membuat UI interaktif\n",
        "!pip install gradio --quiet\n",
        "import gradio as gr"
      ],
      "metadata": {
        "id": "fn4SOHhffhG5",
        "colab": {
          "base_uri": "https://localhost:8080/"
        },
        "outputId": "0c67976e-1e49-4736-c77f-fc18b6ccbfeb"
      },
      "execution_count": 16,
      "outputs": [
        {
          "output_type": "stream",
          "name": "stdout",
          "text": [
            "\u001b[2K   \u001b[90m━━━━━━━━━━━━━━━━━━━━━━━━━━━━━━━━━━━━━━━━\u001b[0m \u001b[32m54.1/54.1 MB\u001b[0m \u001b[31m11.1 MB/s\u001b[0m eta \u001b[36m0:00:00\u001b[0m\n",
            "\u001b[2K   \u001b[90m━━━━━━━━━━━━━━━━━━━━━━━━━━━━━━━━━━━━━━━━\u001b[0m \u001b[32m322.9/322.9 kB\u001b[0m \u001b[31m11.8 MB/s\u001b[0m eta \u001b[36m0:00:00\u001b[0m\n",
            "\u001b[2K   \u001b[90m━━━━━━━━━━━━━━━━━━━━━━━━━━━━━━━━━━━━━━━━\u001b[0m \u001b[32m95.2/95.2 kB\u001b[0m \u001b[31m8.2 MB/s\u001b[0m eta \u001b[36m0:00:00\u001b[0m\n",
            "\u001b[2K   \u001b[90m━━━━━━━━━━━━━━━━━━━━━━━━━━━━━━━━━━━━━━━━\u001b[0m \u001b[32m11.5/11.5 MB\u001b[0m \u001b[31m49.1 MB/s\u001b[0m eta \u001b[36m0:00:00\u001b[0m\n",
            "\u001b[2K   \u001b[90m━━━━━━━━━━━━━━━━━━━━━━━━━━━━━━━━━━━━━━━━\u001b[0m \u001b[32m72.0/72.0 kB\u001b[0m \u001b[31m5.7 MB/s\u001b[0m eta \u001b[36m0:00:00\u001b[0m\n",
            "\u001b[2K   \u001b[90m━━━━━━━━━━━━━━━━━━━━━━━━━━━━━━━━━━━━━━━━\u001b[0m \u001b[32m62.5/62.5 kB\u001b[0m \u001b[31m4.9 MB/s\u001b[0m eta \u001b[36m0:00:00\u001b[0m\n",
            "\u001b[?25h"
          ]
        }
      ]
    },
    {
      "cell_type": "code",
      "source": [
        "def recommend_books_ui(title):\n",
        "    result = get_recommendations(title)\n",
        "    return result[['title', 'authors', 'average_rating']]\n",
        "\n",
        "iface = gr.Interface(\n",
        "    fn=recommend_books_ui,\n",
        "    inputs=gr.Textbox(label=\"Masukkan Judul Buku Favorit\",\n",
        "                     placeholder=\"Contoh: Harry Potter\"),\n",
        "    outputs=gr.Dataframe(\n",
        "        headers=[\"Judul\", \"Penulis\", \"Rating\"],\n",
        "        datatype=[\"str\", \"str\", \"number\"]\n",
        "    ),\n",
        "    title=\"📚 Sistem Rekomendasi Buku\",\n",
        "    description=\"Rekomendasi buku berdasarkan kesamaan penulis dan penerbit\"\n",
        ")\n",
        "\n",
        "iface.launch(share=True)"
      ],
      "metadata": {
        "colab": {
          "base_uri": "https://localhost:8080/",
          "height": 618
        },
        "id": "6I1k1-If1Nym",
        "outputId": "6463f68d-eb96-4aab-975a-d4b45fbabc87"
      },
      "execution_count": 17,
      "outputs": [
        {
          "output_type": "stream",
          "name": "stdout",
          "text": [
            "Colab notebook detected. To show errors in colab notebook, set debug=True in launch()\n",
            "* Running on public URL: https://f68f5d056091034292.gradio.live\n",
            "\n",
            "This share link expires in 1 week. For free permanent hosting and GPU upgrades, run `gradio deploy` from the terminal in the working directory to deploy to Hugging Face Spaces (https://huggingface.co/spaces)\n"
          ]
        },
        {
          "output_type": "display_data",
          "data": {
            "text/plain": [
              "<IPython.core.display.HTML object>"
            ],
            "text/html": [
              "<div><iframe src=\"https://f68f5d056091034292.gradio.live\" width=\"100%\" height=\"500\" allow=\"autoplay; camera; microphone; clipboard-read; clipboard-write;\" frameborder=\"0\" allowfullscreen></iframe></div>"
            ]
          },
          "metadata": {}
        },
        {
          "output_type": "execute_result",
          "data": {
            "text/plain": []
          },
          "metadata": {},
          "execution_count": 17
        }
      ]
    }
  ]
}